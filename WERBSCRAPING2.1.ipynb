{
 "cells": [
  {
   "cell_type": "code",
   "execution_count": 2,
   "id": "3f3d5ad0",
   "metadata": {},
   "outputs": [],
   "source": [
    "from bs4 import BeautifulSoup\n",
    "from urllib.request import urlopen"
   ]
  },
  {
   "cell_type": "code",
   "execution_count": 3,
   "id": "03455b91",
   "metadata": {},
   "outputs": [],
   "source": [
    "url = \"https://auto.suzuki.hu/\"\n",
    "page = urlopen(url)\n",
    "html = page.read().decode(\"utf-8\")\n",
    "soup = BeautifulSoup(html, \"html.parser\")"
   ]
  },
  {
   "cell_type": "code",
   "execution_count": 4,
   "id": "13e91753",
   "metadata": {},
   "outputs": [
    {
     "name": "stdout",
     "output_type": "stream",
     "text": [
      "['7 950 000', '7 440 000', '6 130 000', '6 100 000', '9 950 000', '11 550 000', '24 570 000', '9 250 000']\n"
     ]
    }
   ],
   "source": [
    "i = []\n",
    "for el in soup.find_all('strong', class_='text-main-red'):\n",
    "    i.append(el.string)\n",
    "i = list(dict.fromkeys(i))\n",
    "print(i)"
   ]
  },
  {
   "cell_type": "code",
   "execution_count": 5,
   "id": "eb3e8be2",
   "metadata": {},
   "outputs": [
    {
     "data": {
      "text/plain": [
       "[<h2>\n",
       "                                     S-CROSS\n",
       "                                 </h2>,\n",
       " <h2>\n",
       "                                     Vitara\n",
       "                                 </h2>,\n",
       " <h2>\n",
       "                                     Swift\n",
       "                                 </h2>,\n",
       " <h2>\n",
       "                                     Ignis\n",
       "                                 </h2>,\n",
       " <h2>\n",
       "                                     Swift Sport\n",
       "                                 </h2>,\n",
       " <h2>\n",
       "                                     Swace\n",
       "                                 </h2>,\n",
       " <h2>\n",
       "                                     Across\n",
       "                                 </h2>,\n",
       " <h2>\n",
       "                                     Jimny\n",
       "                                 </h2>,\n",
       " <h2>\n",
       "                             S-CROSS                         </h2>,\n",
       " <h2>\n",
       "                             Vitara                         </h2>,\n",
       " <h2>\n",
       "                             Swift                         </h2>,\n",
       " <h2>\n",
       "                             Ignis                         </h2>,\n",
       " <h2>\n",
       "                             Swift Sport                         </h2>,\n",
       " <h2>\n",
       "                             Swace                         </h2>,\n",
       " <h2>\n",
       "                             Across                         </h2>,\n",
       " <h2>\n",
       "                             Jimny <span>(kishaszonjármű)</span> </h2>]"
      ]
     },
     "execution_count": 5,
     "metadata": {},
     "output_type": "execute_result"
    }
   ],
   "source": [
    "soup.find_all('h2')"
   ]
  },
  {
   "cell_type": "code",
   "execution_count": 6,
   "id": "d9871033",
   "metadata": {},
   "outputs": [
    {
     "name": "stdout",
     "output_type": "stream",
     "text": [
      "['S-CROSS', 'Vitara', 'Swift', 'Ignis', 'Swift Sport', 'Swace', 'Across', 'Jimny']\n"
     ]
    }
   ],
   "source": [
    "f = []\n",
    "for el in soup.find_all('h2'):\n",
    "    f.append(el.string)\n",
    "cleaned_f = [item.strip() if item is not None else None for item in f]\n",
    "cleaned_f = list(dict.fromkeys(cleaned_f))\n",
    "ele= cleaned_f.pop()\n",
    "print(cleaned_f)"
   ]
  },
  {
   "cell_type": "code",
   "execution_count": 8,
   "id": "57ac36a1",
   "metadata": {},
   "outputs": [],
   "source": [
    "import pandas as pd\n",
    "dict = {'Model': cleaned_f, 'Price': i}\n",
    "df = pd.DataFrame(dict)\n",
    "df.to_csv('Suzuki.csv')"
   ]
  },
  {
   "cell_type": "code",
   "execution_count": null,
   "id": "b1f888d3-bd7a-40eb-9197-36a65c5e4fef",
   "metadata": {},
   "outputs": [],
   "source": []
  }
 ],
 "metadata": {
  "kernelspec": {
   "display_name": "Python 3 (ipykernel)",
   "language": "python",
   "name": "python3"
  },
  "language_info": {
   "codemirror_mode": {
    "name": "ipython",
    "version": 3
   },
   "file_extension": ".py",
   "mimetype": "text/x-python",
   "name": "python",
   "nbconvert_exporter": "python",
   "pygments_lexer": "ipython3",
   "version": "3.10.9"
  }
 },
 "nbformat": 4,
 "nbformat_minor": 5
}
